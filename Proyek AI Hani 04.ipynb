{
  "cells": [
    {
      "cell_type": "markdown",
      "metadata": {
        "collapsed": true,
        "id": "nVXtoDAwynjt"
      },
      "source": [
        "## Import Libraries"
      ]
    },
    {
      "cell_type": "code",
      "execution_count": null,
      "metadata": {
        "id": "BtUI-vrdynjx"
      },
      "outputs": [],
      "source": [
        "# Importing the libraries, fill the import name libraries below\n",
        "import numpy as np\n",
        "import matplotlib.pyplot as plt\n",
        "plt.style.use('fivethirtyeight')\n",
        "import pandas as pd\n",
        "from tensorflow.keras.optimizers import SGD\n",
        "from sklearn.preprocessing import MinMaxScaler\n",
        "\n",
        "#Import keras libraries that you need\n",
        "from keras.models import Sequential\n",
        "from keras.layers import Dense, LSTM, Dropout, GRU, Bidirectional\n",
        "import math\n",
        "from sklearn.metrics import mean_squared_error"
      ]
    },
    {
      "cell_type": "markdown",
      "metadata": {
        "id": "HuvWKSHOynjz"
      },
      "source": [
        "# EDA"
      ]
    },
    {
      "cell_type": "code",
      "execution_count": null,
      "metadata": {
        "id": "Q41HnROEynjz"
      },
      "outputs": [],
      "source": [
        "# Some functions to help out with this code\n",
        "def plot_predictions(test,predicted):\n",
        "    plt.plot(test, color='red',label='Real IBM Stock Price')\n",
        "    plt.plot(predicted, color='blue',label='Predicted IBM Stock Price')\n",
        "    plt.title('IBM Stock Price Prediction')\n",
        "    plt.xlabel('Time')\n",
        "    plt.ylabel('IBM Stock Price')\n",
        "    plt.legend()\n",
        "    plt.show()\n",
        "    #fill the function to predict\n",
        "\n",
        "def return_rmse(test,predicted):\n",
        "    rmse = math.sqrt(mean_squared_error(test, predicted))\n",
        "    print(\"The root mean squared error is {}.\".format(rmse))\n",
        "    #fill the function for evaluation model"
      ]
    },
    {
      "cell_type": "code",
      "execution_count": null,
      "metadata": {
        "colab": {
          "base_uri": "https://localhost:8080/",
          "height": 237
        },
        "id": "FRemDGQwynj0",
        "outputId": "22c36642-6869-4a02-b3e8-c937e15889f9"
      },
      "outputs": [
        {
          "output_type": "execute_result",
          "data": {
            "text/plain": [
              "             Open   High    Low  Close   Volume Name\n",
              "Date                                                \n",
              "2006-01-03  77.76  79.35  77.24  79.11  3117200  MMM\n",
              "2006-01-04  79.49  79.49  78.25  78.71  2558000  MMM\n",
              "2006-01-05  78.41  78.65  77.56  77.99  2529500  MMM\n",
              "2006-01-06  78.64  78.90  77.64  78.63  2479500  MMM\n",
              "2006-01-09  78.50  79.83  78.46  79.02  1845600  MMM"
            ],
            "text/html": [
              "\n",
              "  <div id=\"df-0687f79c-9b02-45b0-a99d-67658a493081\">\n",
              "    <div class=\"colab-df-container\">\n",
              "      <div>\n",
              "<style scoped>\n",
              "    .dataframe tbody tr th:only-of-type {\n",
              "        vertical-align: middle;\n",
              "    }\n",
              "\n",
              "    .dataframe tbody tr th {\n",
              "        vertical-align: top;\n",
              "    }\n",
              "\n",
              "    .dataframe thead th {\n",
              "        text-align: right;\n",
              "    }\n",
              "</style>\n",
              "<table border=\"1\" class=\"dataframe\">\n",
              "  <thead>\n",
              "    <tr style=\"text-align: right;\">\n",
              "      <th></th>\n",
              "      <th>Open</th>\n",
              "      <th>High</th>\n",
              "      <th>Low</th>\n",
              "      <th>Close</th>\n",
              "      <th>Volume</th>\n",
              "      <th>Name</th>\n",
              "    </tr>\n",
              "    <tr>\n",
              "      <th>Date</th>\n",
              "      <th></th>\n",
              "      <th></th>\n",
              "      <th></th>\n",
              "      <th></th>\n",
              "      <th></th>\n",
              "      <th></th>\n",
              "    </tr>\n",
              "  </thead>\n",
              "  <tbody>\n",
              "    <tr>\n",
              "      <th>2006-01-03</th>\n",
              "      <td>77.76</td>\n",
              "      <td>79.35</td>\n",
              "      <td>77.24</td>\n",
              "      <td>79.11</td>\n",
              "      <td>3117200</td>\n",
              "      <td>MMM</td>\n",
              "    </tr>\n",
              "    <tr>\n",
              "      <th>2006-01-04</th>\n",
              "      <td>79.49</td>\n",
              "      <td>79.49</td>\n",
              "      <td>78.25</td>\n",
              "      <td>78.71</td>\n",
              "      <td>2558000</td>\n",
              "      <td>MMM</td>\n",
              "    </tr>\n",
              "    <tr>\n",
              "      <th>2006-01-05</th>\n",
              "      <td>78.41</td>\n",
              "      <td>78.65</td>\n",
              "      <td>77.56</td>\n",
              "      <td>77.99</td>\n",
              "      <td>2529500</td>\n",
              "      <td>MMM</td>\n",
              "    </tr>\n",
              "    <tr>\n",
              "      <th>2006-01-06</th>\n",
              "      <td>78.64</td>\n",
              "      <td>78.90</td>\n",
              "      <td>77.64</td>\n",
              "      <td>78.63</td>\n",
              "      <td>2479500</td>\n",
              "      <td>MMM</td>\n",
              "    </tr>\n",
              "    <tr>\n",
              "      <th>2006-01-09</th>\n",
              "      <td>78.50</td>\n",
              "      <td>79.83</td>\n",
              "      <td>78.46</td>\n",
              "      <td>79.02</td>\n",
              "      <td>1845600</td>\n",
              "      <td>MMM</td>\n",
              "    </tr>\n",
              "  </tbody>\n",
              "</table>\n",
              "</div>\n",
              "      <button class=\"colab-df-convert\" onclick=\"convertToInteractive('df-0687f79c-9b02-45b0-a99d-67658a493081')\"\n",
              "              title=\"Convert this dataframe to an interactive table.\"\n",
              "              style=\"display:none;\">\n",
              "        \n",
              "  <svg xmlns=\"http://www.w3.org/2000/svg\" height=\"24px\"viewBox=\"0 0 24 24\"\n",
              "       width=\"24px\">\n",
              "    <path d=\"M0 0h24v24H0V0z\" fill=\"none\"/>\n",
              "    <path d=\"M18.56 5.44l.94 2.06.94-2.06 2.06-.94-2.06-.94-.94-2.06-.94 2.06-2.06.94zm-11 1L8.5 8.5l.94-2.06 2.06-.94-2.06-.94L8.5 2.5l-.94 2.06-2.06.94zm10 10l.94 2.06.94-2.06 2.06-.94-2.06-.94-.94-2.06-.94 2.06-2.06.94z\"/><path d=\"M17.41 7.96l-1.37-1.37c-.4-.4-.92-.59-1.43-.59-.52 0-1.04.2-1.43.59L10.3 9.45l-7.72 7.72c-.78.78-.78 2.05 0 2.83L4 21.41c.39.39.9.59 1.41.59.51 0 1.02-.2 1.41-.59l7.78-7.78 2.81-2.81c.8-.78.8-2.07 0-2.86zM5.41 20L4 18.59l7.72-7.72 1.47 1.35L5.41 20z\"/>\n",
              "  </svg>\n",
              "      </button>\n",
              "      \n",
              "  <style>\n",
              "    .colab-df-container {\n",
              "      display:flex;\n",
              "      flex-wrap:wrap;\n",
              "      gap: 12px;\n",
              "    }\n",
              "\n",
              "    .colab-df-convert {\n",
              "      background-color: #E8F0FE;\n",
              "      border: none;\n",
              "      border-radius: 50%;\n",
              "      cursor: pointer;\n",
              "      display: none;\n",
              "      fill: #1967D2;\n",
              "      height: 32px;\n",
              "      padding: 0 0 0 0;\n",
              "      width: 32px;\n",
              "    }\n",
              "\n",
              "    .colab-df-convert:hover {\n",
              "      background-color: #E2EBFA;\n",
              "      box-shadow: 0px 1px 2px rgba(60, 64, 67, 0.3), 0px 1px 3px 1px rgba(60, 64, 67, 0.15);\n",
              "      fill: #174EA6;\n",
              "    }\n",
              "\n",
              "    [theme=dark] .colab-df-convert {\n",
              "      background-color: #3B4455;\n",
              "      fill: #D2E3FC;\n",
              "    }\n",
              "\n",
              "    [theme=dark] .colab-df-convert:hover {\n",
              "      background-color: #434B5C;\n",
              "      box-shadow: 0px 1px 3px 1px rgba(0, 0, 0, 0.15);\n",
              "      filter: drop-shadow(0px 1px 2px rgba(0, 0, 0, 0.3));\n",
              "      fill: #FFFFFF;\n",
              "    }\n",
              "  </style>\n",
              "\n",
              "      <script>\n",
              "        const buttonEl =\n",
              "          document.querySelector('#df-0687f79c-9b02-45b0-a99d-67658a493081 button.colab-df-convert');\n",
              "        buttonEl.style.display =\n",
              "          google.colab.kernel.accessAllowed ? 'block' : 'none';\n",
              "\n",
              "        async function convertToInteractive(key) {\n",
              "          const element = document.querySelector('#df-0687f79c-9b02-45b0-a99d-67658a493081');\n",
              "          const dataTable =\n",
              "            await google.colab.kernel.invokeFunction('convertToInteractive',\n",
              "                                                     [key], {});\n",
              "          if (!dataTable) return;\n",
              "\n",
              "          const docLinkHtml = 'Like what you see? Visit the ' +\n",
              "            '<a target=\"_blank\" href=https://colab.research.google.com/notebooks/data_table.ipynb>data table notebook</a>'\n",
              "            + ' to learn more about interactive tables.';\n",
              "          element.innerHTML = '';\n",
              "          dataTable['output_type'] = 'display_data';\n",
              "          await google.colab.output.renderOutput(dataTable, element);\n",
              "          const docLink = document.createElement('div');\n",
              "          docLink.innerHTML = docLinkHtml;\n",
              "          element.appendChild(docLink);\n",
              "        }\n",
              "      </script>\n",
              "    </div>\n",
              "  </div>\n",
              "  "
            ]
          },
          "metadata": {},
          "execution_count": 3
        }
      ],
      "source": [
        "# Import Dataset\n",
        "dataset = pd.read_csv('/content/all_stocks_2006-01-01_to_2018-01-01.csv', index_col='Date', parse_dates=['Date'])\n",
        "dataset.head()"
      ]
    },
    {
      "cell_type": "code",
      "execution_count": null,
      "metadata": {
        "colab": {
          "base_uri": "https://localhost:8080/"
        },
        "id": "eoQC4ux1ynj1",
        "outputId": "5cb08174-3639-422b-ac7d-1f8b12115e97"
      },
      "outputs": [
        {
          "output_type": "stream",
          "name": "stderr",
          "text": [
            "<ipython-input-4-4c0e74acba3c>:5: FutureWarning: Value based partial slicing on non-monotonic DatetimeIndexes with non-existing keys is deprecated and will raise a KeyError in a future Version.\n",
            "  test_set = dataset['2017':].iloc[:,1:2].values\n"
          ]
        }
      ],
      "source": [
        "# Checking for missing values, choose for data training and set in kind of year\n",
        "#a : until year training\n",
        "#b : year for testing\n",
        "training_set = dataset[:'2016'].iloc[:,1:2].values\n",
        "test_set = dataset['2017':].iloc[:,1:2].values"
      ]
    },
    {
      "cell_type": "markdown",
      "metadata": {
        "id": "JDIa_CPsynj1"
      },
      "source": [
        
    },
    {
      "cell_type": "code",
      "execution_count": null,
      "metadata": {
        "colab": {
          "base_uri": "https://localhost:8080/",
          "height": 271
        },
        "id": "SX0uC8Bvynj2",
        "outputId": "8e5a7b3b-e1fc-4e6d-a9b9-f314104030e3"
      },
      "outputs": [
        {
          "output_type": "stream",
          "name": "stderr",
          "text": [
            "<ipython-input-5-bb4fa37a4292>:4: FutureWarning: Value based partial slicing on non-monotonic DatetimeIndexes with non-existing keys is deprecated and will raise a KeyError in a future Version.\n",
            "  dataset[\"High\"]['2017':].plot(figsize=(16,4),legend=True)\n"
          ]
        },
        {
          "output_type": "display_data",
          "data": {
            "text/plain": [
              "<Figure size 1600x400 with 1 Axes>"
            ],
            "image/png": "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\n"
          },
          "metadata": {}
        }
      ],
      "source": [
        "#Checking for stock's market company with line plot\n",
        "#Write your code below\n",
        "dataset[\"High\"][:'2016'].plot(figsize=(16,4),legend=True)\n",
        "dataset[\"High\"]['2017':].plot(figsize=(16,4),legend=True)\n",
        "plt.legend(['Training set (Before 2017)','Test set (2017 and beyond)'])\n",
        "plt.title('IBM stock price')\n",
        "plt.show()"
      ]
    },
    {
      "cell_type": "code",
      "execution_count": null,
      "metadata": {
        "id": "iKV9PLrCynj2"
      },
      "outputs": [],
      "source": [
        "# Scaling with minmaxscaller for data train\n",
        "sc = MinMaxScaler(feature_range=(0,1))\n",
        "training_set_scaled = sc.fit_transform(training_set)"
      ]
    },
    {
      "cell_type": "code",
      "execution_count": null,
      "metadata": {
        "colab": {
          "base_uri": "https://localhost:8080/"
        },
        "id": "x5jDluY4ynj2",
        "outputId": "124be5b3-730e-4b75-fa17-864511471d9b"
      },
      "outputs": [
        {
          "output_type": "execute_result",
          "data": {
            "text/plain": [
              "(85831, 1)"
            ]
          },
          "metadata": {},
          "execution_count": 7
        }
      ],
      "source": [
        "#checking shape of data train\n",
        "training_set_scaled.shape"
      ]
    },
    {
      "cell_type": "code",
      "execution_count": null,
      "metadata": {
        "id": "t5S2EAEtynj3"
      },
      "outputs": [],
      "source": [
        "# create data structure to fill how many row for input in your model at data train\n",
        "X_train = []\n",
        "y_train = []\n",
        "for i in range(60,19666):\n",
        "    X_train.append(training_set_scaled[i-60:i,0])\n",
        "    y_train.append(training_set_scaled[i,0])\n",
        "    #fill for x_train and y_train here\n",
        "\n",
        "#change it into the array\n",
        "X_train, y_train = np.array(X_train), np.array(y_train)"
      ]
    },
    {
      "cell_type": "code",
      "execution_count": null,
      "metadata": {
        "id": "JV8q-zBRynj3"
      },
      "outputs": [],
      "source": [
        "# Reshaping X_train before modelling\n",
        "X_train = np.reshape(X_train, (X_train.shape[0],X_train.shape[1],1))"
      ]
    },
    {
      "cell_type": "markdown",
      "metadata": {
        "id": "-02vj_rIynj4"
      },
      "source": [
        "## Modelling"
      ]
    },
    {
      "cell_type": "code",
      "execution_count": null,
      "metadata": {
        "colab": {
          "base_uri": "https://localhost:8080/"
        },
        "id": "pxBVzp7Lynj4",
        "scrolled": true,
        "outputId": "15a9b9bb-8fd0-46d0-a220-bf4e829e04c8"
      },
      "outputs": [
        {
          "output_type": "stream",
          "name": "stdout",
          "text": [
            "Epoch 1/50\n",
            "613/613 [==============================] - 109s 163ms/step - loss: 3.5876e-04\n",
            "Epoch 2/50\n",
            "613/613 [==============================] - 98s 160ms/step - loss: 1.8287e-04\n",
            "Epoch 3/50\n",
            "613/613 [==============================] - 101s 164ms/step - loss: 1.4308e-04\n",
            "Epoch 4/50\n",
            "613/613 [==============================] - 99s 162ms/step - loss: 1.2756e-04\n",
            "Epoch 5/50\n",
            "613/613 [==============================] - 101s 165ms/step - loss: 1.1431e-04\n",
            "Epoch 6/50\n",
            "613/613 [==============================] - 97s 158ms/step - loss: 1.0718e-04\n",
            "Epoch 7/50\n",
            "613/613 [==============================] - 108s 176ms/step - loss: 1.0408e-04\n",
            "Epoch 8/50\n",
            "613/613 [==============================] - 100s 163ms/step - loss: 9.7563e-05\n",
            "Epoch 9/50\n",
            "613/613 [==============================] - 115s 187ms/step - loss: 9.3740e-05\n",
            "Epoch 10/50\n",
            "613/613 [==============================] - 99s 161ms/step - loss: 9.0960e-05\n",
            "Epoch 11/50\n",
            "613/613 [==============================] - 101s 165ms/step - loss: 8.7774e-05\n",
            "Epoch 12/50\n",
            "613/613 [==============================] - 98s 160ms/step - loss: 8.6152e-05\n",
            "Epoch 13/50\n",
            "613/613 [==============================] - 97s 158ms/step - loss: 8.2008e-05\n",
            "Epoch 14/50\n",
            "613/613 [==============================] - 99s 161ms/step - loss: 8.0987e-05\n",
            "Epoch 15/50\n",
            "613/613 [==============================] - 96s 157ms/step - loss: 7.8708e-05\n",
            "Epoch 16/50\n",
            "613/613 [==============================] - 99s 162ms/step - loss: 7.6475e-05\n",
            "Epoch 17/50\n",
            "613/613 [==============================] - 97s 159ms/step - loss: 7.4926e-05\n",
            "Epoch 18/50\n",
            "613/613 [==============================] - 96s 156ms/step - loss: 7.3845e-05\n",
            "Epoch 19/50\n",
            "613/613 [==============================] - 100s 163ms/step - loss: 7.0181e-05\n",
            "Epoch 20/50\n",
            "613/613 [==============================] - 96s 157ms/step - loss: 7.1100e-05\n",
            "Epoch 21/50\n",
            "613/613 [==============================] - 99s 161ms/step - loss: 6.9853e-05\n",
            "Epoch 22/50\n",
            "613/613 [==============================] - 97s 158ms/step - loss: 7.0147e-05\n",
            "Epoch 23/50\n",
            "613/613 [==============================] - 98s 160ms/step - loss: 6.8212e-05\n",
            "Epoch 24/50\n",
            "613/613 [==============================] - 99s 162ms/step - loss: 6.7137e-05\n",
            "Epoch 25/50\n",
            "613/613 [==============================] - 97s 158ms/step - loss: 6.6316e-05\n",
            "Epoch 26/50\n",
            "613/613 [==============================] - 100s 163ms/step - loss: 6.4880e-05\n",
            "Epoch 27/50\n",
            "613/613 [==============================] - 96s 157ms/step - loss: 6.4561e-05\n",
            "Epoch 28/50\n",
            "613/613 [==============================] - 99s 162ms/step - loss: 6.3989e-05\n",
            "Epoch 29/50\n",
            "613/613 [==============================] - 98s 159ms/step - loss: 6.1931e-05\n",
            "Epoch 30/50\n",
            "613/613 [==============================] - 97s 157ms/step - loss: 6.2483e-05\n",
            "Epoch 31/50\n",
            "613/613 [==============================] - 99s 162ms/step - loss: 6.2523e-05\n",
            "Epoch 32/50\n",
            "613/613 [==============================] - 96s 156ms/step - loss: 6.2407e-05\n",
            "Epoch 33/50\n",
            "613/613 [==============================] - 98s 160ms/step - loss: 6.0146e-05\n",
            "Epoch 34/50\n",
            "613/613 [==============================] - 96s 157ms/step - loss: 6.1162e-05\n",
            "Epoch 35/50\n",
            "613/613 [==============================] - 100s 163ms/step - loss: 5.9396e-05\n",
            "Epoch 36/50\n",
            "613/613 [==============================] - 99s 162ms/step - loss: 5.9109e-05\n",
            "Epoch 37/50\n",
            "613/613 [==============================] - 96s 156ms/step - loss: 5.8952e-05\n",
            "Epoch 38/50\n",
            "613/613 [==============================] - 98s 160ms/step - loss: 5.7687e-05\n",
            "Epoch 39/50\n",
            "613/613 [==============================] - 97s 158ms/step - loss: 5.8025e-05\n",
            "Epoch 40/50\n",
            "613/613 [==============================] - 101s 164ms/step - loss: 5.7678e-05\n",
            "Epoch 41/50\n",
            "613/613 [==============================] - 103s 169ms/step - loss: 5.6483e-05\n",
            "Epoch 42/50\n",
            "613/613 [==============================] - 103s 168ms/step - loss: 5.6292e-05\n",
            "Epoch 43/50\n",
            "613/613 [==============================] - 102s 166ms/step - loss: 5.5995e-05\n",
            "Epoch 44/50\n",
            "613/613 [==============================] - 103s 169ms/step - loss: 5.6724e-05\n",
            "Epoch 45/50\n",
            "613/613 [==============================] - 98s 160ms/step - loss: 5.5715e-05\n",
            "Epoch 46/50\n",
            "613/613 [==============================] - 97s 159ms/step - loss: 5.4744e-05\n",
            "Epoch 47/50\n",
            "613/613 [==============================] - 97s 158ms/step - loss: 5.4962e-05\n",
            "Epoch 48/50\n",
            "613/613 [==============================] - 98s 160ms/step - loss: 5.5081e-05\n",
            "Epoch 49/50\n",
            "613/613 [==============================] - 95s 156ms/step - loss: 5.4691e-05\n",
            "Epoch 50/50\n",
            "613/613 [==============================] - 97s 159ms/step - loss: 5.3878e-05\n"
          ]
        },
        {
          "output_type": "execute_result",
          "data": {
            "text/plain": [
              "<keras.callbacks.History at 0x7f90a80e8340>"
            ]
          },
          "metadata": {},
          "execution_count": 10
        }
      ],
      "source": [
        "# Sequential Modelling\n",
        "model = Sequential()\n",
        "# First LSTM layer with Dropout regularisation\n",
        "model.add(LSTM(units=50, return_sequences=True, input_shape=(X_train.shape[1],1)))\n",
        "model.add(Dropout(0.2))\n",
        "# Second LSTM layer\n",
        "model.add(LSTM(units=50, return_sequences=True))\n",
        "model.add(Dropout(0.2))\n",
        "# Third LSTM layer, fill the code below\n",
        "model.add(LSTM(units=50, return_sequences=True))\n",
        "model.add(Dropout(0.2))\n",
        "# Fourth LSTM layer, fill the code below\n",
        "model.add(LSTM(units=50))\n",
        "model.add(Dropout(0.2))\n",
        "# The output layer\n",
        "model.add(Dense(units=1))\n",
        "# Compiling\n",
        "model.compile(optimizer='rmsprop',loss='mean_squared_error')\n",
        "# Train fitting for the model\n",
        "model.fit(X_train,y_train,epochs=50,batch_size=32)"
      ]
    },
    {
      "cell_type": "code",
      "execution_count": null,
      "metadata": {
        "id": "yR-eBiPwynj4",
        "colab": {
          "base_uri": "https://localhost:8080/"
        },
        "outputId": "821e55a0-da47-4b45-a747-3aafd6fbf1f9"
      },
      "outputs": [
        {
          "output_type": "stream",
          "name": "stderr",
          "text": [
            "<ipython-input-11-3d0cf2848480>:2: FutureWarning: Value based partial slicing on non-monotonic DatetimeIndexes with non-existing keys is deprecated and will raise a KeyError in a future Version.\n",
            "  dataset_total = pd.concat((dataset[\"High\"][:'2016'],dataset[\"High\"]['2017':]),axis=0)\n"
          ]
        }
      ],
      "source": [
        "# Prepare for data test similar way for data train\n",
        "dataset_total = pd.concat((dataset[\"High\"][:'2016'],dataset[\"High\"]['2017':]),axis=0)\n",
        "test = ...\n",
        "test = dataset_total[len(dataset_total)-len(test_set) - 60:].values\n",
        "test = test.reshape(-1,1)\n",
        "test  = sc.transform(test)\n",
        "#Transform the inputs"
      ]
    },
    {
      "cell_type": "code",
      "execution_count": null,
      "metadata": {
        "id": "7kWKnAOxynj4",
        "colab": {
          "base_uri": "https://localhost:8080/"
        },
        "outputId": "da37f4d6-61ad-40ca-842f-e517700e68f0"
      },
      "outputs": [
        {
          "output_type": "execute_result",
          "data": {
            "text/plain": [
              "(7841, 1)"
            ]
          },
          "metadata": {},
          "execution_count": 12
        }
      ],
      "source": [
        "#checking data test shape\n",
        "test.shape"
      ]
    },
    {
      "cell_type": "markdown",
      "metadata": {
        "id": "RwoDOr_0ynj5"
      },
      "source": [
        "### Prediction"
      ]
    },
    {
      "cell_type": "code",
      "execution_count": null,
      "metadata": {
        "id": "jGAdMg46ynj5",
        "colab": {
          "base_uri": "https://localhost:8080/"
        },
        "outputId": "4fd03c44-0c29-4fab-b9a3-9ec9337fb481"
      },
      "outputs": [
        {
          "output_type": "stream",
          "name": "stdout",
          "text": [
            "244/244 [==============================] - 12s 40ms/step\n"
          ]
        }
      ],
      "source": [
        "# Preparing X_test and predicting the prices of the stock's that you choose\n",
        "X_test = []\n",
        "for i in range(60,7841):\n",
        "    X_test.append(test[i-60:i,0])\n",
        "X_test = np.array(X_test)\n",
        "X_test = np.reshape(X_test, (X_test.shape[0],X_test.shape[1],1))\n",
        "#Predicting stocks price\n",
        "predicted_stock_price = model.predict(X_test)\n",
        "predicted_stock_price = sc.inverse_transform(predicted_stock_price)"
      ]
    },
    {
      "cell_type": "code",
      "execution_count": null,
      "metadata": {
        "id": "ibsZTArTynj5",
        "scrolled": false,
        "colab": {
          "base_uri": "https://localhost:8080/",
          "height": 508
        },
        "outputId": "96d0fdce-7413-4b48-ce1a-ae843ddd1a4d"
      },
      "outputs": [
        {
          "output_type": "display_data",
          "data": {
            "text/plain": [
              "<Figure size 640x480 with 1 Axes>"
            ],
            "image/png": "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\n"
          },
          "metadata": {}
        }
      ],
      "source": [
        "# Visualizing the results for prediction\n",
        "plot_predictions(test_set,predicted_stock_price)"
      ]
    },
    {
      "cell_type": "code",
      "execution_count": null,
      "metadata": {
        "id": "Y4C8Ebpwynj6",
        "colab": {
          "base_uri": "https://localhost:8080/",
          "height": 360
        },
        "outputId": "736e299f-a267-4a8a-db49-e65c9f66f974"
      },
      "outputs": [
        {
          "output_type": "error",
          "ename": "ValueError",
          "evalue": "ignored",
          "traceback": [
            "\u001b[0;31m---------------------------------------------------------------------------\u001b[0m",
            "\u001b[0;31mValueError\u001b[0m                                Traceback (most recent call last)",
            "\u001b[0;32m<ipython-input-15-ae19ae7448f7>\u001b[0m in \u001b[0;36m<cell line: 2>\u001b[0;34m()\u001b[0m\n\u001b[1;32m      1\u001b[0m \u001b[0;31m# Evaluating our model with RMSE function above\u001b[0m\u001b[0;34m\u001b[0m\u001b[0;34m\u001b[0m\u001b[0m\n\u001b[0;32m----> 2\u001b[0;31m \u001b[0mreturn_rmse\u001b[0m\u001b[0;34m(\u001b[0m\u001b[0mtest_set\u001b[0m\u001b[0;34m,\u001b[0m\u001b[0mpredicted_stock_price\u001b[0m\u001b[0;34m)\u001b[0m\u001b[0;34m\u001b[0m\u001b[0;34m\u001b[0m\u001b[0m\n\u001b[0m",
            "\u001b[0;32m<ipython-input-2-c55a979d3d4d>\u001b[0m in \u001b[0;36mreturn_rmse\u001b[0;34m(test, predicted)\u001b[0m\n\u001b[1;32m     11\u001b[0m \u001b[0;34m\u001b[0m\u001b[0m\n\u001b[1;32m     12\u001b[0m \u001b[0;32mdef\u001b[0m \u001b[0mreturn_rmse\u001b[0m\u001b[0;34m(\u001b[0m\u001b[0mtest\u001b[0m\u001b[0;34m,\u001b[0m\u001b[0mpredicted\u001b[0m\u001b[0;34m)\u001b[0m\u001b[0;34m:\u001b[0m\u001b[0;34m\u001b[0m\u001b[0;34m\u001b[0m\u001b[0m\n\u001b[0;32m---> 13\u001b[0;31m     \u001b[0mrmse\u001b[0m \u001b[0;34m=\u001b[0m \u001b[0mmath\u001b[0m\u001b[0;34m.\u001b[0m\u001b[0msqrt\u001b[0m\u001b[0;34m(\u001b[0m\u001b[0mmean_squared_error\u001b[0m\u001b[0;34m(\u001b[0m\u001b[0mtest\u001b[0m\u001b[0;34m,\u001b[0m \u001b[0mpredicted\u001b[0m\u001b[0;34m)\u001b[0m\u001b[0;34m)\u001b[0m\u001b[0;34m\u001b[0m\u001b[0;34m\u001b[0m\u001b[0m\n\u001b[0m\u001b[1;32m     14\u001b[0m     \u001b[0mprint\u001b[0m\u001b[0;34m(\u001b[0m\u001b[0;34m\"The root mean squared error is {}.\"\u001b[0m\u001b[0;34m.\u001b[0m\u001b[0mformat\u001b[0m\u001b[0;34m(\u001b[0m\u001b[0mrmse\u001b[0m\u001b[0;34m)\u001b[0m\u001b[0;34m)\u001b[0m\u001b[0;34m\u001b[0m\u001b[0;34m\u001b[0m\u001b[0m\n\u001b[1;32m     15\u001b[0m     \u001b[0;31m#fill the function for evaluation model\u001b[0m\u001b[0;34m\u001b[0m\u001b[0;34m\u001b[0m\u001b[0m\n",
            "\u001b[0;32m/usr/local/lib/python3.9/dist-packages/sklearn/metrics/_regression.py\u001b[0m in \u001b[0;36mmean_squared_error\u001b[0;34m(y_true, y_pred, sample_weight, multioutput, squared)\u001b[0m\n\u001b[1;32m    440\u001b[0m     \u001b[0;36m0.825\u001b[0m\u001b[0;34m...\u001b[0m\u001b[0;34m\u001b[0m\u001b[0;34m\u001b[0m\u001b[0m\n\u001b[1;32m    441\u001b[0m     \"\"\"\n\u001b[0;32m--> 442\u001b[0;31m     y_type, y_true, y_pred, multioutput = _check_reg_targets(\n\u001b[0m\u001b[1;32m    443\u001b[0m         \u001b[0my_true\u001b[0m\u001b[0;34m,\u001b[0m \u001b[0my_pred\u001b[0m\u001b[0;34m,\u001b[0m \u001b[0mmultioutput\u001b[0m\u001b[0;34m\u001b[0m\u001b[0;34m\u001b[0m\u001b[0m\n\u001b[1;32m    444\u001b[0m     )\n",
            "\u001b[0;32m/usr/local/lib/python3.9/dist-packages/sklearn/metrics/_regression.py\u001b[0m in \u001b[0;36m_check_reg_targets\u001b[0;34m(y_true, y_pred, multioutput, dtype)\u001b[0m\n\u001b[1;32m     99\u001b[0m     \"\"\"\n\u001b[1;32m    100\u001b[0m     \u001b[0mcheck_consistent_length\u001b[0m\u001b[0;34m(\u001b[0m\u001b[0my_true\u001b[0m\u001b[0;34m,\u001b[0m \u001b[0my_pred\u001b[0m\u001b[0;34m)\u001b[0m\u001b[0;34m\u001b[0m\u001b[0;34m\u001b[0m\u001b[0m\n\u001b[0;32m--> 101\u001b[0;31m     \u001b[0my_true\u001b[0m \u001b[0;34m=\u001b[0m \u001b[0mcheck_array\u001b[0m\u001b[0;34m(\u001b[0m\u001b[0my_true\u001b[0m\u001b[0;34m,\u001b[0m \u001b[0mensure_2d\u001b[0m\u001b[0;34m=\u001b[0m\u001b[0;32mFalse\u001b[0m\u001b[0;34m,\u001b[0m \u001b[0mdtype\u001b[0m\u001b[0;34m=\u001b[0m\u001b[0mdtype\u001b[0m\u001b[0;34m)\u001b[0m\u001b[0;34m\u001b[0m\u001b[0;34m\u001b[0m\u001b[0m\n\u001b[0m\u001b[1;32m    102\u001b[0m     \u001b[0my_pred\u001b[0m \u001b[0;34m=\u001b[0m \u001b[0mcheck_array\u001b[0m\u001b[0;34m(\u001b[0m\u001b[0my_pred\u001b[0m\u001b[0;34m,\u001b[0m \u001b[0mensure_2d\u001b[0m\u001b[0;34m=\u001b[0m\u001b[0;32mFalse\u001b[0m\u001b[0;34m,\u001b[0m \u001b[0mdtype\u001b[0m\u001b[0;34m=\u001b[0m\u001b[0mdtype\u001b[0m\u001b[0;34m)\u001b[0m\u001b[0;34m\u001b[0m\u001b[0;34m\u001b[0m\u001b[0m\n\u001b[1;32m    103\u001b[0m \u001b[0;34m\u001b[0m\u001b[0m\n",
            "\u001b[0;32m/usr/local/lib/python3.9/dist-packages/sklearn/utils/validation.py\u001b[0m in \u001b[0;36mcheck_array\u001b[0;34m(array, accept_sparse, accept_large_sparse, dtype, order, copy, force_all_finite, ensure_2d, allow_nd, ensure_min_samples, ensure_min_features, estimator, input_name)\u001b[0m\n\u001b[1;32m    919\u001b[0m \u001b[0;34m\u001b[0m\u001b[0m\n\u001b[1;32m    920\u001b[0m         \u001b[0;32mif\u001b[0m \u001b[0mforce_all_finite\u001b[0m\u001b[0;34m:\u001b[0m\u001b[0;34m\u001b[0m\u001b[0;34m\u001b[0m\u001b[0m\n\u001b[0;32m--> 921\u001b[0;31m             _assert_all_finite(\n\u001b[0m\u001b[1;32m    922\u001b[0m                 \u001b[0marray\u001b[0m\u001b[0;34m,\u001b[0m\u001b[0;34m\u001b[0m\u001b[0;34m\u001b[0m\u001b[0m\n\u001b[1;32m    923\u001b[0m                 \u001b[0minput_name\u001b[0m\u001b[0;34m=\u001b[0m\u001b[0minput_name\u001b[0m\u001b[0;34m,\u001b[0m\u001b[0;34m\u001b[0m\u001b[0;34m\u001b[0m\u001b[0m\n",
            "\u001b[0;32m/usr/local/lib/python3.9/dist-packages/sklearn/utils/validation.py\u001b[0m in \u001b[0;36m_assert_all_finite\u001b[0;34m(X, allow_nan, msg_dtype, estimator_name, input_name)\u001b[0m\n\u001b[1;32m    159\u001b[0m                 \u001b[0;34m\"#estimators-that-handle-nan-values\"\u001b[0m\u001b[0;34m\u001b[0m\u001b[0;34m\u001b[0m\u001b[0m\n\u001b[1;32m    160\u001b[0m             )\n\u001b[0;32m--> 161\u001b[0;31m         \u001b[0;32mraise\u001b[0m \u001b[0mValueError\u001b[0m\u001b[0;34m(\u001b[0m\u001b[0mmsg_err\u001b[0m\u001b[0;34m)\u001b[0m\u001b[0;34m\u001b[0m\u001b[0;34m\u001b[0m\u001b[0m\n\u001b[0m\u001b[1;32m    162\u001b[0m \u001b[0;34m\u001b[0m\u001b[0m\n\u001b[1;32m    163\u001b[0m \u001b[0;34m\u001b[0m\u001b[0m\n",
            "\u001b[0;31mValueError\u001b[0m: Input contains NaN."
          ]
        }
      ],
      "source": [
        "# Evaluating our model with RMSE function above\n",
        "return_rmse(test_set,predicted_stock_price)"
      ]
    },
    {
      "cell_type": "code",
      "source": [
        "# The GRU architecture\n",
        "LSTM_GRU = Sequential()\n",
        "# First GRU layer with Dropout regularisation\n",
        "LSTM_GRU.add(GRU(units=50, return_sequences=True, input_shape=(X_train.shape[1],1), activation='tanh'))\n",
        "LSTM_GRU.add(Dropout(0.2))\n",
        "# Second GRU layer\n",
        "LSTM_GRU.add(GRU(units=50, return_sequences=True, input_shape=(X_train.shape[1],1), activation='tanh'))\n",
        "LSTM_GRU.add(Dropout(0.2))\n",
        "# Third GRU layer\n",
        "LSTM_GRU.add(GRU(units=50, return_sequences=True, input_shape=(X_train.shape[1],1), activation='tanh'))\n",
        "LSTM_GRU.add(Dropout(0.2))\n",
        "# Fourth GRU layer\n",
        "LSTM_GRU.add(GRU(units=50, activation='tanh'))\n",
        "LSTM_GRU.add(Dropout(0.2))\n",
        "# The output layer\n",
        "LSTM_GRU.add(Dense(units=1))\n",
        "# Compiling the RNN\n",
        "LSTM_GRU.compile(optimizer=SGD(lr=0.01, decay=1e-7, momentum=0.9, nesterov=False),loss='mean_squared_error')\n",
        "# Fitting to the training set\n",
        "LSTM_GRU.fit(X_train,y_train,epochs=50,batch_size=150)"
      ],
      "metadata": {
        "id": "VBMAWwHT6Pmi"
      },
      "execution_count": null,
      "outputs": []
    },
    {
      "cell_type": "code",
      "source": [
        "# Preparing X_test and predicting the prices\n",
        "X_test = []\n",
        "for i in range(60,311):\n",
        "    X_test.append(test[i-60:i,0])\n",
        "X_test = np.array(X_test)\n",
        "X_test = np.reshape(X_test, (X_test.shape[0],X_test.shape[1],1))\n",
        "GRU_predicted_stock_price = LSTM_GRU.predict(X_test)\n",
        "GRU_predicted_stock_price = sc.inverse_transform(GRU_predicted_stock_price)"
      ],
      "metadata": {
        "id": "qcMkaYTTG6Sv"
      },
      "execution_count": null,
      "outputs": []
    },
    {
      "cell_type": "code",
      "source": [
        "# Visualizing the results for GRU\n",
        "plot_predictions(test_set,GRU_predicted_stock_price)"
      ],
      "metadata": {
        "id": "vaXjcckMG_Bq"
      },
      "execution_count": null,
      "outputs": []
    },
    {
      "cell_type": "code",
      "source": [
        "# Evaluating GRU\n",
        "return_rmse(test_set,GRU_predicted_stock_price)"
      ],
      "metadata": {
        "id": "5nYx9NH6HIKM"
      },
      "execution_count": null,
      "outputs": []
    },
    {
      "cell_type": "markdown",
      "metadata": {
        "id": "_IHBZh-3ynj6"
      },
      "source": [
        
      ]
    },
    {
      "cell_type": "markdown",
      "metadata": {
        "id": "kpyt75q5ynj6"
      },
      "source": 
    }
  ],
  "metadata": {
    "colab": {
      "provenance": []
    },
    "gpuClass": "standard",
    "kernelspec": {
      "display_name": "Python 3",
      "language": "python",
      "name": "python3"
    },
    "language_info": {
      "codemirror_mode": {
        "name": "ipython",
        "version": 3
      },
      "file_extension": ".py",
      "mimetype": "text/x-python",
      "name": "python",
      "nbconvert_exporter": "python",
      "pygments_lexer": "ipython3",
      "version": "3.8.5"
    },
    "accelerator": "TPU"
  },
  "nbformat": 4,
  "nbformat_minor": 0
}
