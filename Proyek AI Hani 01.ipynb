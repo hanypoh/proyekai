{
  "cells": [
    {
      "cell_type": "code",
      "execution_count": null,
      "id": "309dabb9-e570-4d6f-b227-5f2fdd40736b",
      "metadata": {
        "id": "309dabb9-e570-4d6f-b227-5f2fdd40736b"
      },
      "outputs": [],
      "source": [
        "#Import Libraries\n",
        "import pandas as pd\n",
        "import numpy as np\n",
        "import scipy.stats as stats"
      ]
    },
    {
      "cell_type": "code",
      "execution_count": null,
      "id": "56587e98-c378-44b9-93f0-d796b76124ff",
      "metadata": {
        "colab": {
          "base_uri": "https://localhost:8080/",
          "height": 833
        },
        "id": "56587e98-c378-44b9-93f0-d796b76124ff",
        "outputId": "cf791206-30df-410d-e773-395a0cada0e0"
      },
      "outputs": [
        {
          "output_type": "execute_result",
          "data": {
            "text/plain": [
              "    TransactionAmount\n",
              "0                 100\n",
              "1                 150\n",
              "2                  50\n",
              "3                 100\n",
              "4                 130\n",
              "5                 120\n",
              "6                 100\n",
              "7                  85\n",
              "8                  70\n",
              "9                 150\n",
              "10                150\n",
              "11                120\n",
              "12                 50\n",
              "13                100\n",
              "14                100\n",
              "15                140\n",
              "16                 90\n",
              "17                150\n",
              "18                 50\n",
              "19                 90\n",
              "20                120\n",
              "21                100\n",
              "22                110\n",
              "23                 75\n",
              "24                 65"
            ],
            "text/html": [
              "\n",
              "  <div id=\"df-828d3f55-fec8-4054-b179-1d97c369b623\">\n",
              "    <div class=\"colab-df-container\">\n",
              "      <div>\n",
              "<style scoped>\n",
              "    .dataframe tbody tr th:only-of-type {\n",
              "        vertical-align: middle;\n",
              "    }\n",
              "\n",
              "    .dataframe tbody tr th {\n",
              "        vertical-align: top;\n",
              "    }\n",
              "\n",
              "    .dataframe thead th {\n",
              "        text-align: right;\n",
              "    }\n",
              "</style>\n",
              "<table border=\"1\" class=\"dataframe\">\n",
              "  <thead>\n",
              "    <tr style=\"text-align: right;\">\n",
              "      <th></th>\n",
              "      <th>TransactionAmount</th>\n",
              "    </tr>\n",
              "  </thead>\n",
              "  <tbody>\n",
              "    <tr>\n",
              "      <th>0</th>\n",
              "      <td>100</td>\n",
              "    </tr>\n",
              "    <tr>\n",
              "      <th>1</th>\n",
              "      <td>150</td>\n",
              "    </tr>\n",
              "    <tr>\n",
              "      <th>2</th>\n",
              "      <td>50</td>\n",
              "    </tr>\n",
              "    <tr>\n",
              "      <th>3</th>\n",
              "      <td>100</td>\n",
              "    </tr>\n",
              "    <tr>\n",
              "      <th>4</th>\n",
              "      <td>130</td>\n",
              "    </tr>\n",
              "    <tr>\n",
              "      <th>5</th>\n",
              "      <td>120</td>\n",
              "    </tr>\n",
              "    <tr>\n",
              "      <th>6</th>\n",
              "      <td>100</td>\n",
              "    </tr>\n",
              "    <tr>\n",
              "      <th>7</th>\n",
              "      <td>85</td>\n",
              "    </tr>\n",
              "    <tr>\n",
              "      <th>8</th>\n",
              "      <td>70</td>\n",
              "    </tr>\n",
              "    <tr>\n",
              "      <th>9</th>\n",
              "      <td>150</td>\n",
              "    </tr>\n",
              "    <tr>\n",
              "      <th>10</th>\n",
              "      <td>150</td>\n",
              "    </tr>\n",
              "    <tr>\n",
              "      <th>11</th>\n",
              "      <td>120</td>\n",
              "    </tr>\n",
              "    <tr>\n",
              "      <th>12</th>\n",
              "      <td>50</td>\n",
              "    </tr>\n",
              "    <tr>\n",
              "      <th>13</th>\n",
              "      <td>100</td>\n",
              "    </tr>\n",
              "    <tr>\n",
              "      <th>14</th>\n",
              "      <td>100</td>\n",
              "    </tr>\n",
              "    <tr>\n",
              "      <th>15</th>\n",
              "      <td>140</td>\n",
              "    </tr>\n",
              "    <tr>\n",
              "      <th>16</th>\n",
              "      <td>90</td>\n",
              "    </tr>\n",
              "    <tr>\n",
              "      <th>17</th>\n",
              "      <td>150</td>\n",
              "    </tr>\n",
              "    <tr>\n",
              "      <th>18</th>\n",
              "      <td>50</td>\n",
              "    </tr>\n",
              "    <tr>\n",
              "      <th>19</th>\n",
              "      <td>90</td>\n",
              "    </tr>\n",
              "    <tr>\n",
              "      <th>20</th>\n",
              "      <td>120</td>\n",
              "    </tr>\n",
              "    <tr>\n",
              "      <th>21</th>\n",
              "      <td>100</td>\n",
              "    </tr>\n",
              "    <tr>\n",
              "      <th>22</th>\n",
              "      <td>110</td>\n",
              "    </tr>\n",
              "    <tr>\n",
              "      <th>23</th>\n",
              "      <td>75</td>\n",
              "    </tr>\n",
              "    <tr>\n",
              "      <th>24</th>\n",
              "      <td>65</td>\n",
              "    </tr>\n",
              "  </tbody>\n",
              "</table>\n",
              "</div>\n",
              "      <button class=\"colab-df-convert\" onclick=\"convertToInteractive('df-828d3f55-fec8-4054-b179-1d97c369b623')\"\n",
              "              title=\"Convert this dataframe to an interactive table.\"\n",
              "              style=\"display:none;\">\n",
              "        \n",
              "  <svg xmlns=\"http://www.w3.org/2000/svg\" height=\"24px\"viewBox=\"0 0 24 24\"\n",
              "       width=\"24px\">\n",
              "    <path d=\"M0 0h24v24H0V0z\" fill=\"none\"/>\n",
              "    <path d=\"M18.56 5.44l.94 2.06.94-2.06 2.06-.94-2.06-.94-.94-2.06-.94 2.06-2.06.94zm-11 1L8.5 8.5l.94-2.06 2.06-.94-2.06-.94L8.5 2.5l-.94 2.06-2.06.94zm10 10l.94 2.06.94-2.06 2.06-.94-2.06-.94-.94-2.06-.94 2.06-2.06.94z\"/><path d=\"M17.41 7.96l-1.37-1.37c-.4-.4-.92-.59-1.43-.59-.52 0-1.04.2-1.43.59L10.3 9.45l-7.72 7.72c-.78.78-.78 2.05 0 2.83L4 21.41c.39.39.9.59 1.41.59.51 0 1.02-.2 1.41-.59l7.78-7.78 2.81-2.81c.8-.78.8-2.07 0-2.86zM5.41 20L4 18.59l7.72-7.72 1.47 1.35L5.41 20z\"/>\n",
              "  </svg>\n",
              "      </button>\n",
              "      \n",
              "  <style>\n",
              "    .colab-df-container {\n",
              "      display:flex;\n",
              "      flex-wrap:wrap;\n",
              "      gap: 12px;\n",
              "    }\n",
              "\n",
              "    .colab-df-convert {\n",
              "      background-color: #E8F0FE;\n",
              "      border: none;\n",
              "      border-radius: 50%;\n",
              "      cursor: pointer;\n",
              "      display: none;\n",
              "      fill: #1967D2;\n",
              "      height: 32px;\n",
              "      padding: 0 0 0 0;\n",
              "      width: 32px;\n",
              "    }\n",
              "\n",
              "    .colab-df-convert:hover {\n",
              "      background-color: #E2EBFA;\n",
              "      box-shadow: 0px 1px 2px rgba(60, 64, 67, 0.3), 0px 1px 3px 1px rgba(60, 64, 67, 0.15);\n",
              "      fill: #174EA6;\n",
              "    }\n",
              "\n",
              "    [theme=dark] .colab-df-convert {\n",
              "      background-color: #3B4455;\n",
              "      fill: #D2E3FC;\n",
              "    }\n",
              "\n",
              "    [theme=dark] .colab-df-convert:hover {\n",
              "      background-color: #434B5C;\n",
              "      box-shadow: 0px 1px 3px 1px rgba(0, 0, 0, 0.15);\n",
              "      filter: drop-shadow(0px 1px 2px rgba(0, 0, 0, 0.3));\n",
              "      fill: #FFFFFF;\n",
              "    }\n",
              "  </style>\n",
              "\n",
              "      <script>\n",
              "        const buttonEl =\n",
              "          document.querySelector('#df-828d3f55-fec8-4054-b179-1d97c369b623 button.colab-df-convert');\n",
              "        buttonEl.style.display =\n",
              "          google.colab.kernel.accessAllowed ? 'block' : 'none';\n",
              "\n",
              "        async function convertToInteractive(key) {\n",
              "          const element = document.querySelector('#df-828d3f55-fec8-4054-b179-1d97c369b623');\n",
              "          const dataTable =\n",
              "            await google.colab.kernel.invokeFunction('convertToInteractive',\n",
              "                                                     [key], {});\n",
              "          if (!dataTable) return;\n",
              "\n",
              "          const docLinkHtml = 'Like what you see? Visit the ' +\n",
              "            '<a target=\"_blank\" href=https://colab.research.google.com/notebooks/data_table.ipynb>data table notebook</a>'\n",
              "            + ' to learn more about interactive tables.';\n",
              "          element.innerHTML = '';\n",
              "          dataTable['output_type'] = 'display_data';\n",
              "          await google.colab.output.renderOutput(dataTable, element);\n",
              "          const docLink = document.createElement('div');\n",
              "          docLink.innerHTML = docLinkHtml;\n",
              "          element.appendChild(docLink);\n",
              "        }\n",
              "      </script>\n",
              "    </div>\n",
              "  </div>\n",
              "  "
            ]
          },
          "metadata": {},
          "execution_count": 2
        }
      ],
      "source": [
        "#Create DataFrame\n",
        "data = {'SalesForceTraining': [100,150,50,100,130,120,100,85,70,150,\n",
        "                              150,120,50,100,100,140,90,150,50,90,\n",
        "                              120,100,110,75,65]}\n",
        "\n",
        "df = pd.DataFrame(data)\n",
        "\n",
        "df"
      ]
    },
    {
      "cell_type": "code",
      "execution_count": null,
      "id": "KOFYWfvUtfMx",
      "metadata": {
        "colab": {
          "base_uri": "https://localhost:8080/"
        },
        "id": "KOFYWfvUtfMx",
        "outputId": "2e3234c6-654d-4bcd-d09f-1d599f6bc0cc"
      },
      "outputs": [
        {
          "output_type": "stream",
          "name": "stdout",
          "text": [
            "102.6\n",
            "100\n"
          ]
        }
      ],
      "source": [
        "#Central Tendency\n",
        "import statistics\n",
        "print(statistics.mean(df['SalesForceTraining']))\n",
        "print(statistics.median(df['SalesForceTraining']))"
      ]
    },
    {
      "cell_type": "code",
      "source": [
        "statistics.mode(df['SalesForceTraining'])"
      ],
      "metadata": {
        "colab": {
          "base_uri": "https://localhost:8080/"
        },
        "id": "bk4nCPnNXPCZ",
        "outputId": "8b2fa053-eeb1-41a4-f1e3-d40eba57af27"
      },
      "id": "bk4nCPnNXPCZ",
      "execution_count": null,
      "outputs": [
        {
          "output_type": "execute_result",
          "data": {
            "text/plain": [
              "100"
            ]
          },
          "metadata": {},
          "execution_count": 4
        }
      ]
    },
    {
      "cell_type": "code",
      "source": [
        "statistics.multimode(df['SalesForceTraining'])"
      ],
      "metadata": {
        "colab": {
          "base_uri": "https://localhost:8080/"
        },
        "id": "T-5FO_SfXRLb",
        "outputId": "af6dbf9f-6ac5-4877-df56-d6da04c58bcb"
      },
      "id": "T-5FO_SfXRLb",
      "execution_count": null,
      "outputs": [
        {
          "output_type": "execute_result",
          "data": {
            "text/plain": [
              "[100]"
            ]
          },
          "metadata": {},
          "execution_count": 5
        }
      ]
    },
    {
      "cell_type": "code",
      "execution_count": null,
      "id": "ceRxEGdTt966",
      "metadata": {
        "id": "ceRxEGdTt966"
      },
      "outputs": [],
      "source": [
        "#dapat dilihat nilai mean = 102.6 , median = 100, mode = 100 dan mutimode = 100"
      ]
    },
    {
      "cell_type": "code",
      "execution_count": null,
      "id": "UcbHy344uQ-G",
      "metadata": {
        "colab": {
          "base_uri": "https://localhost:8080/"
        },
        "id": "UcbHy344uQ-G",
        "outputId": "9bbe498c-1a9c-408c-c9b7-4b2ac94dc7e3"
      },
      "outputs": [
        {
          "output_type": "stream",
          "name": "stdout",
          "text": [
            "972.2399999999999\n",
            "31.18076330047101\n",
            "100\n",
            "85.0\n",
            "100.0\n",
            "120.0\n"
          ]
        }
      ],
      "source": [
        "#Variability\n",
        "import numpy as np\n",
        "print(np.var(df['SalesForceTraining']))\n",
        "print(np.std(df['SalesForceTraining']))\n",
        "print(np.max(df['SalesForceTraining']) - np.min(df['SalesForceTraining']))\n",
        "print(np.quantile(df['SalesForceTraining'], 0.25))\n",
        "print(np.quantile(df['SalesForceTraining'], 0.5))\n",
        "print(np.quantile(df['SalesForceTraining'], 0.75))"
      ]
    },
    {
      "cell_type": "code",
      "execution_count": null,
      "id": "v_dl9Fneuabm",
      "metadata": {
        "id": "v_dl9Fneuabm"
      },
      "outputs": [],
      "source": [
        "#dapat dilihat nilai Variansi = 972.239, Standard Deviation = 31.180, range = 100, kuartil 1 = 85, kuartil 2 = 100, kuartil 3 = 120"
      ]
    },
    {
      "cell_type": "code",
      "execution_count": null,
      "id": "3786f132-4bd1-4c72-a5d9-1044aa088818",
      "metadata": {
        "id": "3786f132-4bd1-4c72-a5d9-1044aa088818"
      },
      "outputs": [],
      "source": [
        "#Define H0 and H1\n",
        "#H0: Rata-rata jumlah transaksi 30 hari = 100\n",
        "#H1: Rata-rata jumlah transaksi 30 hari > 100"
      ]
    },
    {
      "cell_type": "code",
      "execution_count": null,
      "id": "b8103158-ecda-478d-9926-7ec0dcfc5c12",
      "metadata": {
        "id": "b8103158-ecda-478d-9926-7ec0dcfc5c12"
      },
      "outputs": [],
      "source": [
        "#Define alpha = 0.05"
      ]
    },
    {
      "cell_type": "code",
      "execution_count": null,
      "id": "686e0fc4-84d5-4712-ae90-b47eb3ea44ac",
      "metadata": {
        "colab": {
          "base_uri": "https://localhost:8080/"
        },
        "id": "686e0fc4-84d5-4712-ae90-b47eb3ea44ac",
        "outputId": "03fe4745-cc71-4e49-d78e-a2295d50da2f"
      },
      "outputs": [
        {
          "output_type": "stream",
          "name": "stdout",
          "text": [
            "0.4085001556802841 0.6865284813438117\n"
          ]
        }
      ],
      "source": [
        "#Calculate t statistics and P-value\n",
        "#Perform one sample t-test\n",
        "import scipy.stats as stats\n",
        "\n",
        "# perform one sample t-test\n",
        "t_statistic, p_value = stats.ttest_1samp(a=df['SalesForceTraining'], popmean=100)\n",
        "print(t_statistic , p_value)"
      ]
    },
    {
      "cell_type": "code",
      "execution_count": null,
      "id": "592f6cf7",
      "metadata": {
        "id": "592f6cf7"
      },
      "outputs": [],
      "source": [
        "#statistic= 0.4085001556802841, pvalue= 0.6865284813438117"
      ]
    },
    {
      "cell_type": "code",
      "execution_count": null,
      "id": "35c7de5f-3992-4872-98ea-9e9269b1557b",
      "metadata": {
        "id": "35c7de5f-3992-4872-98ea-9e9269b1557b"
      },
      "outputs": [],
      "source": [
        "#Conclude with alpha and p-value\n",
        "# Karena P-value lebih besar dari alpha (5%), maka kita gagal menolak H0\n",
        "# Conclusion: Kampanye tidak efektif, rata-rata jumlah transaksi 30 hari masih 100"
      ]
    },
    {
      "cell_type": "code",
      "execution_count": null,
      "id": "9580db55-a594-4c1b-a5e6-3787906505c2",
      "metadata": {
        "id": "9580db55-a594-4c1b-a5e6-3787906505c2"
      },
      "outputs": [],
      "source": [
        "#Conclude with t statistics and critical region\n",
        "#Find the critical region"
      ]
    },
    {
      "cell_type": "code",
      "execution_count": null,
      "id": "1429f038",
      "metadata": {
        "colab": {
          "base_uri": "https://localhost:8080/"
        },
        "id": "1429f038",
        "outputId": "3be6fc02-4be7-4915-9f95-47623ca80282"
      },
      "outputs": [
        {
          "output_type": "execute_result",
          "data": {
            "text/plain": [
              "1.7108820799094275"
            ]
          },
          "metadata": {},
          "execution_count": 15
        }
      ],
      "source": [
        "#H1: larger (right side)\n",
        "stats.t.ppf(1-0.05, 24)"
      ]
    },
    {
      "cell_type": "code",
      "execution_count": null,
      "id": "d6595428-5211-4cf7-bb61-ca8e201e6ef6",
      "metadata": {
        "id": "d6595428-5211-4cf7-bb61-ca8e201e6ef6"
      },
      "outputs": [],
      "source": [
        "#Critical region: t > 1.71\n",
        "# Karena t-statistik tidak berada di daerah kritis, maka kita gagal menolak H0\n",
        "#Conclusion: Kampanye tidak efektif, rata-rata jumlah transaksi 30 hari masih 100"
      ]
    }
  ],
  "metadata": {
    "colab": {
      "provenance": []
    },
    "kernelspec": {
      "display_name": "Python 3",
      "language": "python",
      "name": "python3"
    },
    "language_info": {
      "codemirror_mode": {
        "name": "ipython",
        "version": 3
      },
      "file_extension": ".py",
      "mimetype": "text/x-python",
      "name": "python",
      "nbconvert_exporter": "python",
      "pygments_lexer": "ipython3",
      "version": "3.11.1 (tags/v3.11.1:a7a450f, Dec  6 2022, 19:58:39) [MSC v.1934 64 bit (AMD64)]"
    },
    "vscode": {
      "interpreter": {
        "hash": "5e70fd34aa919644e731ce0c71c5ec6c66d3b48eb7909f9a04da7ee7076ef028"
      }
    }
  },
  "nbformat": 4,
  "nbformat_minor": 5
}